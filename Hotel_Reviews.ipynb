{
  "nbformat": 4,
  "nbformat_minor": 0,
  "metadata": {
    "colab": {
      "name": "Hotel-Reviews",
      "provenance": [],
      "collapsed_sections": [],
      "include_colab_link": true
    },
    "kernelspec": {
      "name": "python3",
      "display_name": "Python 3"
    },
    "accelerator": "GPU"
  },
  "cells": [
    {
      "cell_type": "markdown",
      "metadata": {
        "id": "view-in-github",
        "colab_type": "text"
      },
      "source": [
        "<a href=\"https://colab.research.google.com/github/HanyAkoury/HotelReviews/blob/master/Hotel_Reviews.ipynb\" target=\"_parent\"><img src=\"https://colab.research.google.com/assets/colab-badge.svg\" alt=\"Open In Colab\"/></a>"
      ]
    },
    {
      "cell_type": "markdown",
      "metadata": {
        "id": "NbvboLhvwOin",
        "colab_type": "text"
      },
      "source": [
        "# **Hotel Reviews**\n",
        "**AKOURY Hany**\n",
        "\n",
        "[Google collab link](https://colab.research.google.com/drive/1TT0rbEMVc-DH9CkcxC6XkqEchnHomqTY)"
      ]
    },
    {
      "cell_type": "markdown",
      "metadata": {
        "id": "W6KXhXTlwWPx",
        "colab_type": "text"
      },
      "source": [
        "##Imports and framing"
      ]
    },
    {
      "cell_type": "code",
      "metadata": {
        "id": "SEubd8RTV2fn",
        "colab_type": "code",
        "outputId": "fe807a08-54de-4c39-a714-0b2a8774f59b",
        "colab": {
          "base_uri": "https://localhost:8080/",
          "height": 419
        }
      },
      "source": [
        "# Data framing will occur from a server as shown below\n",
        "\n",
        "# Imports\n",
        "import pandas as pd\n",
        "\n",
        "column_names = ['reviews.rating','reviews.text']\n",
        "\n",
        "# Loading data for manipulation\n",
        "project_data = pd.read_csv('http://christophe-rodrigues.fr/eval_reviews.csv', usecols=column_names, sep=\";\")\n",
        "# Loading data for evaluation\n",
        "eval_data = pd.read_csv('http://christophe-rodrigues.fr/eval_reviews.csv', usecols=column_names, sep=\";\")\n",
        "\n",
        "# Simplier namings\n",
        "df=project_data\n",
        "\n",
        "#-Now let's take a look at our dataframe\n",
        "df"
      ],
      "execution_count": 0,
      "outputs": [
        {
          "output_type": "execute_result",
          "data": {
            "text/html": [
              "<div>\n",
              "<style scoped>\n",
              "    .dataframe tbody tr th:only-of-type {\n",
              "        vertical-align: middle;\n",
              "    }\n",
              "\n",
              "    .dataframe tbody tr th {\n",
              "        vertical-align: top;\n",
              "    }\n",
              "\n",
              "    .dataframe thead th {\n",
              "        text-align: right;\n",
              "    }\n",
              "</style>\n",
              "<table border=\"1\" class=\"dataframe\">\n",
              "  <thead>\n",
              "    <tr style=\"text-align: right;\">\n",
              "      <th></th>\n",
              "      <th>reviews.rating</th>\n",
              "      <th>reviews.text</th>\n",
              "    </tr>\n",
              "  </thead>\n",
              "  <tbody>\n",
              "    <tr>\n",
              "      <th>0</th>\n",
              "      <td>3</td>\n",
              "      <td>This hotel was nice and quiet. Did not know, t...</td>\n",
              "    </tr>\n",
              "    <tr>\n",
              "      <th>1</th>\n",
              "      <td>4</td>\n",
              "      <td>We stayed in the king suite with the separatio...</td>\n",
              "    </tr>\n",
              "    <tr>\n",
              "      <th>2</th>\n",
              "      <td>3</td>\n",
              "      <td>Parking was horrible, somebody ran into my ren...</td>\n",
              "    </tr>\n",
              "    <tr>\n",
              "      <th>3</th>\n",
              "      <td>5</td>\n",
              "      <td>Not cheap but excellent location. Price is som...</td>\n",
              "    </tr>\n",
              "    <tr>\n",
              "      <th>4</th>\n",
              "      <td>2</td>\n",
              "      <td>If you get the room that they advertised on th...</td>\n",
              "    </tr>\n",
              "    <tr>\n",
              "      <th>...</th>\n",
              "      <td>...</td>\n",
              "      <td>...</td>\n",
              "    </tr>\n",
              "    <tr>\n",
              "      <th>9995</th>\n",
              "      <td>4</td>\n",
              "      <td>My friends and I took a trip to Hampton for th...</td>\n",
              "    </tr>\n",
              "    <tr>\n",
              "      <th>9996</th>\n",
              "      <td>5</td>\n",
              "      <td>from check in to departure, staff is friendly,...</td>\n",
              "    </tr>\n",
              "    <tr>\n",
              "      <th>9997</th>\n",
              "      <td>5</td>\n",
              "      <td>This Hampton is located on a quiet street acro...</td>\n",
              "    </tr>\n",
              "    <tr>\n",
              "      <th>9998</th>\n",
              "      <td>5</td>\n",
              "      <td>Awesome wings (my favorite was garlic parmesan...</td>\n",
              "    </tr>\n",
              "    <tr>\n",
              "      <th>9999</th>\n",
              "      <td>4</td>\n",
              "      <td>Clean facility just off freeway ..... staff fr...</td>\n",
              "    </tr>\n",
              "  </tbody>\n",
              "</table>\n",
              "<p>10000 rows × 2 columns</p>\n",
              "</div>"
            ],
            "text/plain": [
              "      reviews.rating                                       reviews.text\n",
              "0                  3  This hotel was nice and quiet. Did not know, t...\n",
              "1                  4  We stayed in the king suite with the separatio...\n",
              "2                  3  Parking was horrible, somebody ran into my ren...\n",
              "3                  5  Not cheap but excellent location. Price is som...\n",
              "4                  2  If you get the room that they advertised on th...\n",
              "...              ...                                                ...\n",
              "9995               4  My friends and I took a trip to Hampton for th...\n",
              "9996               5  from check in to departure, staff is friendly,...\n",
              "9997               5  This Hampton is located on a quiet street acro...\n",
              "9998               5  Awesome wings (my favorite was garlic parmesan...\n",
              "9999               4  Clean facility just off freeway ..... staff fr...\n",
              "\n",
              "[10000 rows x 2 columns]"
            ]
          },
          "metadata": {
            "tags": []
          },
          "execution_count": 1
        }
      ]
    },
    {
      "cell_type": "markdown",
      "metadata": {
        "id": "0pa33XTr2Mfo",
        "colab_type": "text"
      },
      "source": [
        "## Text preprocessing"
      ]
    },
    {
      "cell_type": "markdown",
      "metadata": {
        "id": "QjU9nQZ-OecP",
        "colab_type": "text"
      },
      "source": [
        "Our Goal is to preprocess the text and by preprocessing we mean:\n",
        "Removing as much unwanted/not usefull information as we can. \n",
        "This will help a better word embeding.\n",
        "\n",
        "\n",
        "Step by step we are going to process our text by :\n",
        "1. Replacing our linguistic shortcuts by their full words using regex for identification and replacement\n",
        "2. Cleaning our description with the tokenizing and the removal of stopwords\n",
        "3. Determining word frequencies which will evaluate the relevance of a word ie: Less is better"
      ]
    },
    {
      "cell_type": "markdown",
      "metadata": {
        "id": "oZBbqGpMSY5Y",
        "colab_type": "text"
      },
      "source": [
        "**1. Replacing linguistic shortcuts by their full words using regex for identification and replacement**"
      ]
    },
    {
      "cell_type": "code",
      "metadata": {
        "colab_type": "code",
        "id": "rss0_MyV0zhp",
        "colab": {}
      },
      "source": [
        "# Imports\n",
        "import numpy as np\n",
        "import re\n",
        "\n",
        "# First let's create an array containing our column: 'reviews.text'\n",
        "df_copy = df.copy()\n",
        "df_copy = df_copy.drop(df.columns[0],axis='columns')\n",
        "nf = df_copy.to_numpy() #is our array that holds in each line a review\n",
        "\n",
        "# Defining - replacement patterns for regex\n",
        "replacement_patterns = [\n",
        "    (r'’','\\''),\n",
        "    (r'“',''),\n",
        "    (r'”',''),\n",
        "    (r'doesn\\'t', 'does not'),\n",
        "    (r'don\\'t', 'do not'),\n",
        "    (r'won\\'t', 'will not'),\n",
        "    (r'can\\'t', 'cannot'),\n",
        "    (r'i\\'m', 'i am'),\n",
        "    (r'ain\\'t', 'is not'),\n",
        "    (r'(\\w+)\\'ll', '\\g<1> will'),\n",
        "    (r'(\\w+)n\\'t', '\\g<1> not'),\n",
        "    (r'(\\w+)\\'ve', '\\g<1> have'),\n",
        "    (r'(\\w+)\\'s', '\\g<1> is'),\n",
        "    (r'(\\w+)\\'re', '\\g<1> are'),\n",
        "    (r'(\\w+)\\'d', '\\g<1> would'),\n",
        "    (r'who\\'ve', 'who have'),]\n",
        "\n",
        "class RegexpReplacer(object):\n",
        "    def __init__(self, patterns=replacement_patterns): \n",
        "        self.patterns = [(re.compile(regex), repl) for (regex, repl) in patterns]\n",
        "    def replace(self, text):\n",
        "        s = text\n",
        "        for (pattern, repl) in self.patterns:\n",
        "            s = re.sub(pattern, repl, s) \n",
        "        return s\n",
        "\n",
        "# Creating an empty string so that the regexed review can be stored\n",
        "reg_nf = []\n",
        "rpl = RegexpReplacer()\n",
        "for i in range(len(df)):\n",
        "    reg_nf+=[rpl.replace(nf[i][0])]\n",
        "\n",
        "# Replacing the ancient review by it's regexed version\n",
        "df['reviews.text'] = reg_nf"
      ],
      "execution_count": 0,
      "outputs": []
    },
    {
      "cell_type": "markdown",
      "metadata": {
        "id": "ZlvgAHu6S0c6",
        "colab_type": "text"
      },
      "source": [
        "**2. Cleaning our description with the tokenizing and the removal of stopwords**\n",
        "\n"
      ]
    },
    {
      "cell_type": "code",
      "metadata": {
        "id": "5ZdwNy5e017a",
        "colab_type": "code",
        "outputId": "e48269d7-f58a-458f-8f4a-61a3fe1f3087",
        "colab": {
          "base_uri": "https://localhost:8080/",
          "height": 153
        }
      },
      "source": [
        "# Imports\n",
        "import nltk\n",
        "#\n",
        "from nltk.tokenize.treebank import TreebankWordDetokenizer\n",
        "from nltk.stem import WordNetLemmatizer\n",
        "from nltk import word_tokenize as tokenize\n",
        "from nltk.stem.porter import PorterStemmer\n",
        "from nltk.corpus import stopwords\n",
        "#\n",
        "nltk.download('wordnet')\n",
        "nltk.download('stopwords')\n",
        "nltk.download('punkt')\n",
        "\n",
        "# Defining - stopwords\n",
        "stopwords = set(stopwords.words('english'))\n",
        "\n",
        "# Detokenizer combines tokenized elements\n",
        "detokenizer = TreebankWordDetokenizer()\n",
        "\n",
        "# Removing special characters\n",
        "def remove_special_characters(text):\n",
        "    text = re.sub(r'[^a-zA-z0-9\\s]', '', text)\n",
        "    return text\n",
        "\n",
        "# Word Lemmatizer\n",
        "lm=WordNetLemmatizer()\n",
        "\n",
        "\n",
        "## clean_description will apply \n",
        "# 1- tokenisation to our sentences\n",
        "# 2- stop words removal\n",
        "# 3- Lemmatization\n",
        "# 4- Detokenization\n",
        "def clean_description(desc):\n",
        "    desc = tokenize(desc.lower()) \n",
        "    desc = [token for token in desc if token not in stopwords and token.isalpha()]\n",
        "    desc = [lm.lemmatize(word) for word in desc]\n",
        "    return detokenizer.detokenize(desc)\n",
        "\n",
        "df[\"cleaned_reviews.text\"] = df[\"reviews.text\"].apply(clean_description)\n",
        "print(\"\\ncleaning is done! - you can now find the cleaned description appended in a new column in our df\")"
      ],
      "execution_count": 0,
      "outputs": [
        {
          "output_type": "stream",
          "text": [
            "[nltk_data] Downloading package wordnet to /root/nltk_data...\n",
            "[nltk_data]   Unzipping corpora/wordnet.zip.\n",
            "[nltk_data] Downloading package stopwords to /root/nltk_data...\n",
            "[nltk_data]   Unzipping corpora/stopwords.zip.\n",
            "[nltk_data] Downloading package punkt to /root/nltk_data...\n",
            "[nltk_data]   Unzipping tokenizers/punkt.zip.\n",
            "\n",
            "cleaning is done! - you can now find the cleaned description appended in a new column in our df\n"
          ],
          "name": "stdout"
        }
      ]
    },
    {
      "cell_type": "markdown",
      "metadata": {
        "id": "Uewlvscm04dr",
        "colab_type": "text"
      },
      "source": [
        "**3. Determining word frequencies which will evaluate the relevance of a word ie: Less is better**"
      ]
    },
    {
      "cell_type": "code",
      "metadata": {
        "id": "ZIndlcAHTaOq",
        "colab_type": "code",
        "outputId": "96d73e19-011d-485d-8d0a-29ca432db367",
        "colab": {
          "base_uri": "https://localhost:8080/",
          "height": 122
        }
      },
      "source": [
        "## Local visualisation of the preprocessed texts vs. the raw texts\n",
        "print(\"-Raw review example:\\n\"+df['reviews.text'][120]+\"\\n\\n-Cleaned review example:\\n\"+df['cleaned_reviews.text'][120])"
      ],
      "execution_count": 0,
      "outputs": [
        {
          "output_type": "stream",
          "text": [
            "-Raw review example:\n",
            "The hotel is ok but considering you pay 19 a day for parking it should be better. There are not many normal parking spots. You frequently end up in a parking structure in the back and walking stairs to reach your car. Breakfast is as expected at any similar property. Very busy on the weekend. And no matter how busy it is at 10am the doors will be locked. We were done but several people missed out. Rooms were clean and comfortable. Housekeeping pounded on our door and brought us towels at night we did not ask for and when we told the front desk they acted like it was our fault for not refusing the towels.\n",
            "\n",
            "-Cleaned review example:\n",
            "hotel ok considering pay day parking better many normal parking spot frequently end parking structure back walking stair reach car breakfast expected similar property busy weekend matter busy door locked done several people missed room clean comfortable housekeeping pounded door brought u towel night ask told front desk acted like fault refusing towel\n"
          ],
          "name": "stdout"
        }
      ]
    },
    {
      "cell_type": "code",
      "metadata": {
        "id": "1pGa0VHfwM_k",
        "colab_type": "code",
        "outputId": "83ce6bf4-3158-4a5e-ba64-04fc13248d4e",
        "colab": {
          "base_uri": "https://localhost:8080/",
          "height": 284
        }
      },
      "source": [
        "# Imports\n",
        "import seaborn as sns \n",
        "import matplotlib.pyplot as plt\n",
        "\n",
        "## Global visualisation of the number of word occurences\n",
        "\n",
        "# set seaborn style \n",
        "sns.set(style=\"whitegrid\")\n",
        "\n",
        "## Computing word occurences to have a visual representation of them\n",
        "word_occurrence = df[\"cleaned_reviews.text\"].str.split(expand=True).stack().value_counts()\n",
        "total_words = sum(word_occurrence)\n",
        "\n",
        "# plot the 40 most common words\n",
        "top_words = word_occurrence[:40]/total_words\n",
        "ax = sns.barplot(x = top_words.values, y = top_words.index)\n",
        "\n",
        "# Setting title \n",
        "ax.set_title(\"% Occurrence of Most Frequent Words\")\n",
        "\n",
        "plt.show()"
      ],
      "execution_count": 0,
      "outputs": [
        {
          "output_type": "display_data",
          "data": {
            "image/png": "[encoded data removed]",
            "text/plain": [
              "<Figure size 432x288 with 1 Axes>"
            ]
          },
          "metadata": {
            "tags": []
          }
        }
      ]
    },
    {
      "cell_type": "code",
      "metadata": {
        "id": "37TruCG2vCio",
        "colab_type": "code",
        "colab": {}
      },
      "source": [
        "# After visualising our plot we know that room stay and hotel are very frequent words and can estimate that they bring few meaning to our score.\n",
        "# We will then proceed on removing them from the senteces\n",
        "\n",
        "words_to_erase = ['hotel','room','stay','more','staff']\n",
        "\n",
        "pat = r'\\b(?:{})\\b'.format('|'.join(words_to_erase))\n",
        "df['cleaned_reviews.text'] = df['cleaned_reviews.text'].str.replace(pat,' ')"
      ],
      "execution_count": 0,
      "outputs": []
    },
    {
      "cell_type": "code",
      "metadata": {
        "id": "zt9aZOgFVTOI",
        "colab_type": "code",
        "outputId": "6da2b4a5-6278-4541-ea64-b77a5617a459",
        "colab": {
          "base_uri": "https://localhost:8080/",
          "height": 122
        }
      },
      "source": [
        "## Local visualisation of the preprocessed texts vs. the raw texts\n",
        "print(\"-Raw review example:\\n\"+df['reviews.text'][120]+\"\\n\\n-Super_cleaned review example:\\n\"+df['cleaned_reviews.text'][120])"
      ],
      "execution_count": 0,
      "outputs": [
        {
          "output_type": "stream",
          "text": [
            "-Raw review example:\n",
            "The hotel is ok but considering you pay 19 a day for parking it should be better. There are not many normal parking spots. You frequently end up in a parking structure in the back and walking stairs to reach your car. Breakfast is as expected at any similar property. Very busy on the weekend. And no matter how busy it is at 10am the doors will be locked. We were done but several people missed out. Rooms were clean and comfortable. Housekeeping pounded on our door and brought us towels at night we did not ask for and when we told the front desk they acted like it was our fault for not refusing the towels.\n",
            "\n",
            "-Super_cleaned review example:\n",
            "  ok considering pay day parking better many normal parking spot frequently end parking structure back walking stair reach car breakfast expected similar property busy weekend matter busy door locked done several people missed   clean comfortable housekeeping pounded door brought u towel night ask told front desk acted like fault refusing towel\n"
          ],
          "name": "stdout"
        }
      ]
    },
    {
      "cell_type": "markdown",
      "metadata": {
        "id": "OMNcp_lr2i9E",
        "colab_type": "text"
      },
      "source": [
        "## Deep Learning Model\n",
        "\n"
      ]
    },
    {
      "cell_type": "markdown",
      "metadata": {
        "id": "8fePtKtjYdTF",
        "colab_type": "text"
      },
      "source": [
        "### ***Imports***"
      ]
    },
    {
      "cell_type": "code",
      "metadata": {
        "id": "8vRUasC02sWG",
        "colab_type": "code",
        "outputId": "519505f5-3b15-4bab-b4f5-4b58483578b1",
        "colab": {
          "base_uri": "https://localhost:8080/",
          "height": 544
        }
      },
      "source": [
        "#In order to create the deep Learning model we start off by importing our tools and activating the GPU connection\n",
        "\n",
        "# Imports\n",
        "import sklearn\n",
        "#\n",
        "from __future__ import absolute_import, division, print_function, unicode_literals\n",
        "\n",
        "try:\n",
        "  # %tensorflow_version only exists in Colab.\n",
        "  %tensorflow_version 2.x\n",
        "except Exception:\n",
        "  pass\n",
        "import tensorflow as tf\n",
        "\n",
        "!pip install tensorflow-hub\n",
        "!pip install tensorflow-datasets\n",
        "import tensorflow_hub as hub\n",
        "import tensorflow_datasets as tfds\n",
        "\n",
        "print(\"Version: \", tf.__version__)\n",
        "print(\"Eager mode: \", tf.executing_eagerly())\n",
        "print(\"Hub version: \", hub.__version__)\n",
        "print(\"GPU is\", \"available\" if tf.config.experimental.list_physical_devices(\"GPU\") else \"NOT AVAILABLE\")\n",
        "\n",
        "from keras.models import Model, load_model\n",
        "from keras.layers import Dense, Embedding, Input, Activation, CuDNNGRU, Bidirectional, Dropout, GlobalMaxPooling1D\n",
        "from keras.preprocessing.text import Tokenizer\n",
        "from keras.preprocessing.sequence import pad_sequences\n",
        "from keras.callbacks import EarlyStopping, ModelCheckpoint, Callback"
      ],
      "execution_count": 0,
      "outputs": [
        {
          "output_type": "stream",
          "text": [
            "TensorFlow 2.x selected.\n",
            "Requirement already satisfied: tensorflow-hub in /usr/local/lib/python3.6/dist-packages (0.7.0)\n",
            "Requirement already satisfied: numpy>=1.12.0 in /tensorflow-2.0.0/python3.6 (from tensorflow-hub) (1.17.4)\n",
            "Requirement already satisfied: protobuf>=3.4.0 in /tensorflow-2.0.0/python3.6 (from tensorflow-hub) (3.11.1)\n",
            "Requirement already satisfied: six>=1.10.0 in /tensorflow-2.0.0/python3.6 (from tensorflow-hub) (1.13.0)\n",
            "Requirement already satisfied: setuptools in /tensorflow-2.0.0/python3.6 (from protobuf>=3.4.0->tensorflow-hub) (42.0.2)\n",
            "Requirement already satisfied: tensorflow-datasets in /usr/local/lib/python3.6/dist-packages (1.3.0)\n",
            "Requirement already satisfied: absl-py in /tensorflow-2.0.0/python3.6 (from tensorflow-datasets) (0.8.1)\n",
            "Requirement already satisfied: tensorflow-metadata in /usr/local/lib/python3.6/dist-packages (from tensorflow-datasets) (0.15.1)\n",
            "Requirement already satisfied: dill in /usr/local/lib/python3.6/dist-packages (from tensorflow-datasets) (0.3.1.1)\n",
            "Requirement already satisfied: six in /tensorflow-2.0.0/python3.6 (from tensorflow-datasets) (1.13.0)\n",
            "Requirement already satisfied: promise in /usr/local/lib/python3.6/dist-packages (from tensorflow-datasets) (2.2.1)\n",
            "Requirement already satisfied: protobuf>=3.6.1 in /tensorflow-2.0.0/python3.6 (from tensorflow-datasets) (3.11.1)\n",
            "Requirement already satisfied: future in /usr/local/lib/python3.6/dist-packages (from tensorflow-datasets) (0.16.0)\n",
            "Requirement already satisfied: attrs in /usr/local/lib/python3.6/dist-packages (from tensorflow-datasets) (19.3.0)\n",
            "Requirement already satisfied: requests>=2.19.0 in /tensorflow-2.0.0/python3.6 (from tensorflow-datasets) (2.22.0)\n",
            "Requirement already satisfied: termcolor in /tensorflow-2.0.0/python3.6 (from tensorflow-datasets) (1.1.0)\n",
            "Requirement already satisfied: tqdm in /usr/local/lib/python3.6/dist-packages (from tensorflow-datasets) (4.28.1)\n",
            "Requirement already satisfied: numpy in /tensorflow-2.0.0/python3.6 (from tensorflow-datasets) (1.17.4)\n",
            "Requirement already satisfied: wrapt in /tensorflow-2.0.0/python3.6 (from tensorflow-datasets) (1.11.2)\n",
            "Requirement already satisfied: googleapis-common-protos in /usr/local/lib/python3.6/dist-packages (from tensorflow-metadata->tensorflow-datasets) (1.6.0)\n",
            "Requirement already satisfied: setuptools in /tensorflow-2.0.0/python3.6 (from protobuf>=3.6.1->tensorflow-datasets) (42.0.2)\n",
            "Requirement already satisfied: certifi>=2017.4.17 in /tensorflow-2.0.0/python3.6 (from requests>=2.19.0->tensorflow-datasets) (2019.11.28)\n",
            "Requirement already satisfied: idna<2.9,>=2.5 in /tensorflow-2.0.0/python3.6 (from requests>=2.19.0->tensorflow-datasets) (2.8)\n",
            "Requirement already satisfied: urllib3!=1.25.0,!=1.25.1,<1.26,>=1.21.1 in /tensorflow-2.0.0/python3.6 (from requests>=2.19.0->tensorflow-datasets) (1.25.7)\n",
            "Requirement already satisfied: chardet<3.1.0,>=3.0.2 in /tensorflow-2.0.0/python3.6 (from requests>=2.19.0->tensorflow-datasets) (3.0.4)\n",
            "Version:  2.0.0\n",
            "Eager mode:  True\n",
            "Hub version:  0.7.0\n",
            "GPU is available\n"
          ],
          "name": "stdout"
        },
        {
          "output_type": "stream",
          "text": [
            "Using TensorFlow backend.\n"
          ],
          "name": "stderr"
        }
      ]
    },
    {
      "cell_type": "markdown",
      "metadata": {
        "id": "gSfZ-a--YKtg",
        "colab_type": "text"
      },
      "source": [
        "### **Softmax**"
      ]
    },
    {
      "cell_type": "markdown",
      "metadata": {
        "id": "_FvU1miw22ho",
        "colab_type": "text"
      },
      "source": [
        "**The goal of this model is to be abel to do multi-class predictions.**\n",
        "\n",
        "What this means is that the output of our neural network is to be compared to a vector(5,1) which includes 1 on one line and 0s on the rest.\n",
        "\n",
        "**Example: **\n",
        "\n",
        "*   **[1,0,0,0,0]** *is the vector that indicates the score 1*\n",
        "*   **[0,1,0,0,0]** *............................... score 2 and etc.*\n",
        "\n",
        "The ideal activation that helps us do that is : **Softmax**\n",
        "\n",
        "*Softmax function outputs a vector that represents the probability distributions of a list of potential outcomes. (5 in our case)*\n"
      ]
    },
    {
      "cell_type": "code",
      "metadata": {
        "id": "W-3QtVjV2ttZ",
        "colab_type": "code",
        "outputId": "871b1ab5-bd3c-4fd3-b0f2-36548371e2b0",
        "colab": {
          "base_uri": "https://localhost:8080/",
          "height": 136
        }
      },
      "source": [
        "# Now that we know the 'shape' of our output target we have to adapt our ratings so that they match that shape\n",
        "# One hot encoding target\n",
        "num_classes = 5 # 5 corresponding scores.\n",
        "\n",
        "def onehot(arr, num_class):\n",
        "    return np.eye(num_class)[np.array(arr.astype(int)).reshape(-1)-1]\n",
        "\n",
        "y = onehot(df['reviews.rating'], num_classes)\n",
        "y"
      ],
      "execution_count": 0,
      "outputs": [
        {
          "output_type": "execute_result",
          "data": {
            "text/plain": [
              "array([[0., 0., 1., 0., 0.],\n",
              "       [0., 0., 0., 1., 0.],\n",
              "       [0., 0., 1., 0., 0.],\n",
              "       ...,\n",
              "       [0., 0., 0., 0., 1.],\n",
              "       [0., 0., 0., 0., 1.],\n",
              "       [0., 0., 0., 1., 0.]])"
            ]
          },
          "metadata": {
            "tags": []
          },
          "execution_count": 9
        }
      ]
    },
    {
      "cell_type": "markdown",
      "metadata": {
        "id": "kWSSYI0K3oL3",
        "colab_type": "text"
      },
      "source": [
        "**Train-test splits.**\n",
        "\n",
        "Train-test spliting to ensure we can train the model and the evaluate it's accuracy"
      ]
    },
    {
      "cell_type": "code",
      "metadata": {
        "colab_type": "code",
        "id": "38c-uoFN33d3",
        "colab": {}
      },
      "source": [
        "# Train-Test split\n",
        "from sklearn.model_selection import train_test_split\n",
        "x_train,x_test,y_train,y_test = train_test_split(df['reviews.text'],y,test_size = 0.1)"
      ],
      "execution_count": 0,
      "outputs": []
    },
    {
      "cell_type": "markdown",
      "metadata": {
        "id": "TFUefIZz35Vm",
        "colab_type": "text"
      },
      "source": [
        "**Train_Test - Train_val splits.**\n",
        "\n",
        "Train_Test-Train_val splits gives an additional *layer* of validation."
      ]
    },
    {
      "cell_type": "code",
      "metadata": {
        "id": "9isMDFzF34KJ",
        "colab_type": "code",
        "colab": {}
      },
      "source": [
        "# Train-Val split over Train\n",
        "x_subtrain,x_subval,y_subtrain,y_subval = train_test_split(x_train,y_train,test_size = 0.2)\n",
        "\n",
        "# Converting to numpy arrays\n",
        "# train\n",
        "x_subtrain=np.asarray(x_subtrain) \n",
        "x_subval=np.asarray(x_subval)\n",
        "# validation\n",
        "y_subtrain=np.asarray(y_subtrain)\n",
        "y_subval=np.asarray(y_subval)"
      ],
      "execution_count": 0,
      "outputs": []
    },
    {
      "cell_type": "code",
      "metadata": {
        "id": "no8JLuG2cQb_",
        "colab_type": "code",
        "outputId": "08641a99-3101-4347-e408-65473664761b",
        "colab": {
          "base_uri": "https://localhost:8080/",
          "height": 763
        }
      },
      "source": [
        "#Embedding words \n",
        "embedding = \"https://tfhub.dev/google/tf2-preview/gnews-swivel-20dim/1\"\n",
        "hub_layer = hub.KerasLayer(embedding, input_shape=[],dtype=tf.string, trainable=True)\n",
        "\n",
        "# fitting parameters\n",
        "batch_size = [128,512]\n",
        "epochs = 10\n",
        "validation_data = (x_subval,y_subval)\n",
        "verbose = False\n",
        "\n",
        "# compiling parameters\n",
        "optimizer ='adam'\n",
        "loss = 'mean_squared_error'\n",
        "metrics=['accuracy']\n",
        "\n",
        "#Setting up a useful list\n",
        "infos=[]\n",
        "\n",
        "# creating a function that initializes our model\n",
        "def generate_model(optimizer,loss,metrics):\n",
        "  model = tf.keras.Sequential()\n",
        "  model.add(hub_layer)\n",
        "  model.add(tf.keras.layers.Dense(128,activation='relu'))\n",
        "  model.add(tf.keras.layers.Dense(128,activation='relu'))\n",
        "  model.add(tf.keras.layers.Dense(5,activation='softmax'))\n",
        "  model.compile(optimizer,loss,metrics)\n",
        "  return model\n",
        "\n",
        "# Ploting the history of loss and accuracy evolution using a user defined function\n",
        "import matplotlib.pyplot as plt\n",
        "plt.style.use('ggplot')\n",
        "\n",
        "def plot_history(history):\n",
        "        acc = history.history['accuracy']\n",
        "        val_acc = history.history['accuracy']\n",
        "        loss = history.history['loss']\n",
        "        val_loss = history.history['val_loss']\n",
        "\n",
        "        x = range(1, len(acc) + 1)\n",
        "\n",
        "        plt.figure(figsize=(12, 5))\n",
        "        \n",
        "        plt.subplot(1, 2, 1)\n",
        "        plt.plot(x, acc, 'b', label='Training acc')\n",
        "        plt.plot(x, val_acc, 'g', label='Validation acc')\n",
        "        plt.title('Training and validation accuracy')\n",
        "        plt.legend()\n",
        "\n",
        "        plt.subplot(1, 2, 2)\n",
        "        plt.plot(x, loss, 'b', label='Training loss')\n",
        "        plt.plot(x, val_loss, 'g', label='Validation loss')\n",
        "        plt.title('Training and validation loss')\n",
        "        plt.legend()\n",
        "\n",
        "def model_creator(epochs,batch_size):\n",
        "  \n",
        "  # for loop to iterate different batch_sizes\n",
        "  for i in range(len(batch_size)):\n",
        "    #creating out model using the functions we defined earlier\n",
        "    model=generate_model(optimizer,loss,metrics)\n",
        "    history= model.fit(x_subtrain,y_subtrain,\n",
        "                     batch_size[i],\n",
        "                     epochs,\n",
        "                     verbose,\n",
        "                     validation_data=validation_data)\n",
        "    # Evaluating the model\n",
        "    tloss, taccuracy = model.evaluate(x_subtrain, y_subtrain, verbose=False)\n",
        "    vloss, vaccuracy = model.evaluate(x_subval, y_subval, verbose=False)\n",
        "    # plotting\n",
        "    plot_history(history)\n",
        "    # initialising the infos sub_strings\n",
        "    training_accuracy = \"- train_acc:{:.2f}\".format(taccuracy*100)+\"%\"\n",
        "    training_loss = \"- train_loss:{:.4f}\".format(tloss)\n",
        "    validation_accuracy = \"- val_acc:{:.2f}\".format(vaccuracy*100)+\"%\"\n",
        "    validation_loss = \"- val_loss:{:.4f}\".format(vloss)\n",
        "    # concatenating the sub_strings\n",
        "    info = \"epochs:\"+str(epochs)+\" - batch_size:\"+str(batch_size[i])+\" \"+str(training_accuracy)+\" \"+str(training_loss)+\" \"+str(validation_accuracy)+\" \"+str(validation_loss)\n",
        "    print(info+\"\\n\")\n",
        "    \n",
        "  \n",
        "  infos.append(info)\n",
        "\n",
        "  return model\n",
        "# apply\n",
        "%time softmax_predictor = model_creator(epochs,batch_size)"
      ],
      "execution_count": 0,
      "outputs": [
        {
          "output_type": "stream",
          "text": [
            "epochs:10 - batch_size:128 - train_acc:76.28% - train_loss:0.0679 - val_acc:59.11% - val_loss:0.1103\n",
            "\n",
            "epochs:10 - batch_size:512 - train_acc:77.90% - train_loss:0.0647 - val_acc:59.50% - val_loss:0.1083\n",
            "\n",
            "CPU times: user 18.3 s, sys: 903 ms, total: 19.2 s\n",
            "Wall time: 14.8 s\n"
          ],
          "name": "stdout"
        },
        {
          "output_type": "display_data",
          "data": {
            "image/png": "[encoded data removed]",
            "text/plain": [
              "<Figure size 864x360 with 2 Axes>"
            ]
          },
          "metadata": {
            "tags": []
          }
        },
        {
          "output_type": "display_data",
          "data": {
            "image/png": "[encoded data removed]",
            "text/plain": [
              "<Figure size 864x360 with 2 Axes>"
            ]
          },
          "metadata": {
            "tags": []
          }
        }
      ]
    },
    {
      "cell_type": "markdown",
      "metadata": {
        "id": "8v3ogY3hhcs7",
        "colab_type": "text"
      },
      "source": [
        "###**HUGE PAUSE - HUGE THINKING**"
      ]
    },
    {
      "cell_type": "markdown",
      "metadata": {
        "id": "tFcmNEWlg_IS",
        "colab_type": "text"
      },
      "source": [
        "After looking at the unsatisfying accuracies and the inexplicable MSE loss, we decided to look a the problem from another angle.\n",
        "\n",
        "Why not use logistic regression for our multiclass classification problem ? \n",
        "So we changed the necessary parameters and came up with a simplier way to predict the rating's output as follows"
      ]
    },
    {
      "cell_type": "markdown",
      "metadata": {
        "id": "kY0g6PUo4Uj5",
        "colab_type": "text"
      },
      "source": [
        "### **Regression Model**\n",
        "\n",
        "---\n"
      ]
    },
    {
      "cell_type": "markdown",
      "metadata": {
        "id": "kTCVIc8GZa9V",
        "colab_type": "text"
      },
      "source": [
        "**The goal of this model is to be abel to do multi-class predictions this time using linear regression.**\n",
        "\n"
      ]
    },
    {
      "cell_type": "code",
      "metadata": {
        "id": "x0Zme63cZp_z",
        "colab_type": "code",
        "colab": {}
      },
      "source": [
        "#Let's reset our y to it's numerical values rather than it's onehot encoded vectors\n",
        "y = df['reviews.rating']"
      ],
      "execution_count": 0,
      "outputs": []
    },
    {
      "cell_type": "markdown",
      "metadata": {
        "colab_type": "text",
        "id": "MuEUsKMWY6QX"
      },
      "source": [
        "**Train-test splits.**\n",
        "\n",
        "Train-test spliting to ensure we can train the model and the evaluate it's accuracy"
      ]
    },
    {
      "cell_type": "code",
      "metadata": {
        "id": "vbTcaZuaZN5v",
        "colab_type": "code",
        "colab": {}
      },
      "source": [
        "# Train-Test split\n",
        "from sklearn.model_selection import train_test_split\n",
        "x_train,x_test,y_train,y_test = train_test_split(df['reviews.text'],y,test_size = 0.1)"
      ],
      "execution_count": 0,
      "outputs": []
    },
    {
      "cell_type": "markdown",
      "metadata": {
        "id": "CjWtIJfbZT7Z",
        "colab_type": "text"
      },
      "source": [
        "**Train_Test - Train_val splits.**\n",
        "\n",
        "Train_Test-Train_val splits gives an additional *layer* of validation."
      ]
    },
    {
      "cell_type": "code",
      "metadata": {
        "id": "j0ji3vpfZQcB",
        "colab_type": "code",
        "colab": {}
      },
      "source": [
        "# Train-Val split over Train\n",
        "x_subtrain,x_subval,y_subtrain,y_subval = train_test_split(x_train,y_train,test_size = 0.2)\n",
        "\n",
        "# Converting to numpy arrays\n",
        "# train\n",
        "x_subtrain=np.asarray(x_subtrain) \n",
        "x_subval=np.asarray(x_subval)\n",
        "# validation\n",
        "y_subtrain=np.asarray(y_subtrain)\n",
        "y_subval=np.asarray(y_subval)"
      ],
      "execution_count": 0,
      "outputs": []
    },
    {
      "cell_type": "code",
      "metadata": {
        "colab_type": "code",
        "outputId": "e7668421-b412-4c94-e9fc-a72128a68350",
        "id": "YbpNi0Ly62I_",
        "colab": {
          "base_uri": "https://localhost:8080/",
          "height": 407
        }
      },
      "source": [
        "#Embedding words \n",
        "embedding = \"https://tfhub.dev/google/tf2-preview/gnews-swivel-20dim/1\"\n",
        "hub_layer = hub.KerasLayer(embedding, input_shape=[],dtype=tf.string, trainable=True)\n",
        "\n",
        "# fitting parameters\n",
        "batch_size = 16\n",
        "epochs = 10\n",
        "validation_data = (x_subval,y_subval)\n",
        "verbose = False\n",
        "# compiling parameters\n",
        "optimizer ='adam'\n",
        "loss = 'mean_squared_error'\n",
        "metrics=['mse']\n",
        "\n",
        "# function that generates our model\n",
        "def generate_model(optimizer,loss,metrics):\n",
        "  model = tf.keras.Sequential()\n",
        "  model.add(hub_layer)\n",
        "  model.add(tf.keras.layers.Dense(128,activation='relu'))\n",
        "  model.add(tf.keras.layers.Dense(128,activation='relu'))\n",
        "  model.add(tf.keras.layers.Dense(1,activation='relu'))\n",
        "  model.compile(optimizer,loss,metrics)\n",
        "  return model\n",
        "\n",
        "# Ploting the history of loss (MSE) evolution using a user defined function\n",
        "import matplotlib.pyplot as plt\n",
        "plt.style.use('ggplot')\n",
        "def plot_history(history):\n",
        "        loss = history.history['loss']\n",
        "        val_loss = history.history['val_loss']\n",
        "        # x abscisse\n",
        "        x = range(1, len(loss) + 1)\n",
        "        # plot settings\n",
        "        plt.figure(figsize=(12, 5))\n",
        "        # subplot settings\n",
        "        plt.subplot(1, 1, 1)\n",
        "        plt.plot(x, loss, 'b', label='Training loss')\n",
        "        plt.plot(x, val_loss, 'g', label='Validation loss')\n",
        "        plt.title('Training and validation loss (MSE)')\n",
        "        plt.legend()\n",
        "\n",
        "# function that generates a model using the previous function (generate_model) \n",
        "# and applies metrics and plotting (plot_history )to view it's performance on the splits\n",
        "def model_creator(epochs,batch_size):  \n",
        "  # creating out model using the functions we defined earlier\n",
        "  model=generate_model(optimizer,loss,metrics)\n",
        "  # we define history (our model.fit) to be able to plot the loss/learning history curve\n",
        "  history= model.fit(x_subtrain,y_subtrain,\n",
        "                    batch_size,\n",
        "                    epochs,\n",
        "                    verbose,\n",
        "                    validation_data=validation_data)   \n",
        "  # plotting\n",
        "  plot_history(history)\n",
        "  last_model = model\n",
        "  \n",
        "  # evaluation\n",
        "  tloss, taccuracy = model.evaluate(x_subtrain,  y_subtrain, verbose=False)\n",
        "  vloss, vaccuracy = model.evaluate(x_subval, y_subval, verbose=False)\n",
        "  training_loss = \"- training_mse loss:{:.3f}\".format(tloss)\n",
        "  validation_loss = \"- validation_mse loss:{:.3f}\".format(vloss)\n",
        "\n",
        "  # more plotting\n",
        "  info = \"Epochs:\"+str(epochs)+\" - Batch size:\"+str(batch_size)+\" \"+str(training_loss)+\" \"+str(validation_loss)\n",
        "  print(info+\"\\n\")\n",
        "\n",
        "  return last_model\n",
        "\n",
        "\n",
        "# apply the function\n",
        "%time linear_predictor = model_creator(epochs,batch_size)"
      ],
      "execution_count": 0,
      "outputs": [
        {
          "output_type": "stream",
          "text": [
            "Epochs:10 - Batch size:16 - training_mse loss:0.115 - validation_mse loss:0.644\n",
            "\n",
            "CPU times: user 31.4 s, sys: 2.54 s, total: 33.9 s\n",
            "Wall time: 21.8 s\n"
          ],
          "name": "stdout"
        },
        {
          "output_type": "display_data",
          "data": {
            "image/png": "[encoded data removed]",
            "text/plain": [
              "<Figure size 864x360 with 1 Axes>"
            ]
          },
          "metadata": {
            "tags": []
          }
        }
      ]
    },
    {
      "cell_type": "code",
      "metadata": {
        "colab_type": "code",
        "id": "pY4E0OhIIaZI",
        "outputId": "8d4108a5-394b-4f91-e9ae-c004c33fc446",
        "colab": {
          "base_uri": "https://localhost:8080/",
          "height": 136
        }
      },
      "source": [
        "# Final Cell\n",
        "# Where it all ends\n",
        "# After preprocessing our text, training our model, choosing the best parameters let's now calculate the MSE using the evaluation test\n",
        "\n",
        "from sklearn.metrics import mean_squared_error\n",
        "\n",
        "eval_predicted = linear_predictor.predict(eval_data['reviews.text'])\n",
        "\n",
        "# The printed MSE in the output is not the right one ! it will differ when using the real evaluation set\n",
        "\n",
        "print(\"The MSE between the super model's predictions and the actual ratings is: \")\n",
        "print(\"-------\")\n",
        "print(mean_squared_error((np.round(eval_predicted).reshape(-1)),eval_data['reviews.rating']))\n",
        "print(\"-------\")\n",
        "print(\"THE END\")"
      ],
      "execution_count": 0,
      "outputs": [
        {
          "output_type": "stream",
          "text": [
            "WARNING:tensorflow:Falling back from v2 loop because of error: Failed to find data adapter that can handle input: <class 'pandas.core.series.Series'>, <class 'NoneType'>\n"
          ],
          "name": "stdout"
        },
        {
          "output_type": "stream",
          "text": [
            "WARNING:tensorflow:Falling back from v2 loop because of error: Failed to find data adapter that can handle input: <class 'pandas.core.series.Series'>, <class 'NoneType'>\n"
          ],
          "name": "stderr"
        },
        {
          "output_type": "stream",
          "text": [
            "The MSE between the super model's predictions and the actual ratings is: \n",
            "-------\n",
            "0.3111\n",
            "-------\n",
            "THE END\n"
          ],
          "name": "stdout"
        }
      ]
    }
  ]
}